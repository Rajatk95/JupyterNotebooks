{
  "cells": [
    {
      "metadata": {
        "_cell_guid": "ed441827-912f-4d26-bb30-962e494e4902",
        "_uuid": "13862e491295654979f1c1a68d5b51050078c9a8"
      },
      "cell_type": "markdown",
      "source": "# Introduction\n\nThis is the workbook component of the \"Indexing, selecting, assigning\" section. For the reference component, [**click here**](https://www.kaggle.com/residentmario/indexing-selecting-assigning-reference).\n\nSelecting specific values of a `pandas` `DataFrame` or `Series` to work on is an implicit step in almost any data operation you'll run, so one of the first things you need to learn in working with data in Python is how to go about selecting the data points relevant to you quickly and effectively.\n\nIn this set of exercises we will work on exploring the [Wine Reviews dataset](https://www.kaggle.com/zynicide/wine-reviews). \n\n# Relevant Resources\n* **[Quickstart to indexing and selecting data](https://www.kaggle.com/residentmario/indexing-and-selecting-data/)** \n* [Indexing and Selecting Data](https://pandas.pydata.org/pandas-docs/stable/indexing.html) section of pandas documentation\n* [Pandas Cheat Sheet](https://assets.datacamp.com/blog_assets/PandasPythonForDataScience.pdf)\n\n\n"
    },
    {
      "metadata": {
        "_cell_guid": "ec3878ea-06ce-444d-ad5a-ce6b8a32d586",
        "_uuid": "186dca163ee5d64edb5e9c533d63b5ca9a278074"
      },
      "cell_type": "markdown",
      "source": "# Set Up\n**Fork this notebook using the button towards the top of the screen.**\n\nRun the following cell to load your data and some utility functions"
    },
    {
      "metadata": {
        "_cell_guid": "497764a1-5328-44b6-8d23-3d7935fa3000",
        "_uuid": "5bf2c033be7c19b418a11b3cca979720546a1e34",
        "trusted": true
      },
      "cell_type": "code",
      "source": "import pandas as pd\nimport seaborn as sns\n\n\nimport sys\nsys.path.append('../input/advanced-pandas-exercises/')\nfrom indexing_selecting_assigning import *\n\nreviews = pd.read_csv(\"../input/wine-reviews/winemag-data-130k-v2.csv\", index_col=0)\npd.set_option(\"display.max_rows\", 5)",
      "execution_count": null,
      "outputs": []
    },
    {
      "metadata": {
        "_cell_guid": "44883696-4161-46b8-8dfc-f7d6a98482b9",
        "_uuid": "94a8c222c0001e704841a1e9ce24db5f9a59c485"
      },
      "cell_type": "markdown",
      "source": "Look at an overview of your data by running the following line"
    },
    {
      "metadata": {
        "_cell_guid": "6d0cb1b7-ea5f-4540-8865-0e9282f60e2f",
        "_uuid": "87a9445923b613457f5790e0baff3585a3fe4c93",
        "trusted": true
      },
      "cell_type": "code",
      "source": "reviews.head()",
      "execution_count": null,
      "outputs": []
    },
    {
      "metadata": {
        "_cell_guid": "17c566a8-2801-4ca2-ba2c-654ed5e1e17d",
        "_uuid": "0819443af6fb6b6873a46c293ce49ba78289a89d"
      },
      "cell_type": "markdown",
      "source": "# Checking Answers\n\nYou can check your answers in each of the exercises that follow using the  `check_qN` function provided in the code cell above (replacing `N` with the number of the exercise). For example here's how you would check an incorrect answer to exercise 1:"
    },
    {
      "metadata": {
        "_cell_guid": "d84be9db-d3ac-419b-9520-8b3c621430ec",
        "_uuid": "0eed19f2928893a99c482c04b391324f10b1f813",
        "trusted": true
      },
      "cell_type": "code",
      "source": "check_q1(pd.DataFrame())",
      "execution_count": null,
      "outputs": []
    },
    {
      "metadata": {
        "_cell_guid": "16402da6-fd1b-41aa-b089-545deccc384a",
        "_uuid": "3d66fb5688ac4df6cc0830edd141003c2ee71537"
      },
      "cell_type": "markdown",
      "source": "For the first set of questions, if you use `check_qN` on your answer, and your answer is right, a simple `True` value will be returned.\n\nFor the second set of questions, using this function to check a correct answer will present you will an informative graph!\n\nIf you get stuck, use `answer_qN` function to print the answer outright."
    },
    {
      "metadata": {
        "_cell_guid": "038328fc-3cb6-484d-b1fd-02fe569f44f3",
        "_uuid": "18bc3f3f42e3182bf8a94334fc51891700df20b7"
      },
      "cell_type": "markdown",
      "source": "# Exercises"
    },
    {
      "metadata": {
        "_cell_guid": "ad12fe94-371f-4f97-bfcd-816c010e22ae",
        "collapsed": true,
        "_uuid": "5b808702856343d30227350738e9afaf79569a36"
      },
      "cell_type": "markdown",
      "source": "**Exercise 1**: Select the `description` column from `reviews`."
    },
    {
      "metadata": {
        "_cell_guid": "b28e2a54-3aad-4278-ae3f-90c0ba009964",
        "_uuid": "7ac619bd1d32f5e1bfdce6c67e6c4793dc51bbfb",
        "trusted": true
      },
      "cell_type": "code",
      "source": "check_q1(reviews['description'])",
      "execution_count": null,
      "outputs": []
    },
    {
      "metadata": {
        "_cell_guid": "6c8d3db7-5a8d-46b1-8a45-80cf211cb7d3",
        "_uuid": "b1953b7288f1e6664adcf7b22948999b17a0cdd7"
      },
      "cell_type": "markdown",
      "source": "**Exercise 2**: Select the first value from the description column of `reviews`."
    },
    {
      "metadata": {
        "_cell_guid": "f44806b3-4c37-4af9-87c4-9bffaf2a665b",
        "_uuid": "9689e0f2dd35dc91d3fada053ff5fd3623a55241",
        "trusted": true
      },
      "cell_type": "code",
      "source": "check_q2(reviews['description'].head(1))",
      "execution_count": null,
      "outputs": []
    },
    {
      "metadata": {
        "_cell_guid": "a2fd5bd3-dae4-4030-a4e0-8e9575d53fe1",
        "_uuid": "7fa5025f3d20fc0873d09e3074b3e06e3c2bd856"
      },
      "cell_type": "markdown",
      "source": "**Exercise 3**: Select the first row of data (the first record) from `reviews`. Hint: from this exercise onwards I strongly recommend using `loc` or `iloc`."
    },
    {
      "metadata": {
        "_cell_guid": "ad874c6e-e666-4d1c-98e0-dc3e06645dc1",
        "_uuid": "a6ce031ab720497962734344ed93eea16293e5bb",
        "trusted": true
      },
      "cell_type": "code",
      "source": "check_q3(reviews.iloc[0])",
      "execution_count": null,
      "outputs": []
    },
    {
      "metadata": {
        "_cell_guid": "e88c42bf-81e4-494f-802d-6d36be1da963",
        "_uuid": "7b1db0811de09bf8466a4b63c623e8935f54e8f4"
      },
      "cell_type": "markdown",
      "source": "**Exercise 4**: Select the first 10 values from the `description` column in `reviews`. Hint: format your output as a `pandas` `Series`."
    },
    {
      "metadata": {
        "_cell_guid": "0d81e71b-d73c-414c-ad54-bc8c4844fd1b",
        "_uuid": "a98097fe18a6ee5196a287f4de1992df4a97a093",
        "trusted": true
      },
      "cell_type": "code",
      "source": "check_q4(reviews.head(10)['description'])",
      "execution_count": null,
      "outputs": []
    },
    {
      "metadata": {
        "_cell_guid": "bb6cf115-67d0-4238-9811-2a1a4ba0ab15",
        "_uuid": "38686efe5181343e1b88676a6b764a3b64f33b87"
      },
      "cell_type": "markdown",
      "source": "**Exercise 5**: Select the records with the `1`, `2`, `3`, `5`, and `8` row index positions. In other words, generate the following`DataFrame`:\n\n![](https://i.imgur.com/sHZvI1O.png)"
    },
    {
      "metadata": {
        "_cell_guid": "ddd495d4-6900-4d89-a3a3-dd1377f02b10",
        "_uuid": "279f8f34ddfdb581c057ea1564c23d7a22b09cf0",
        "trusted": true
      },
      "cell_type": "code",
      "source": "l = [1,2,3,5,8]\ncheck_q5(reviews.iloc[l])",
      "execution_count": null,
      "outputs": []
    },
    {
      "metadata": {
        "_cell_guid": "c7a65b77-e302-42eb-bfdf-fe7656e94800",
        "_uuid": "7b1bf189d3acc0b71fb78f1dab4c0799d657988a"
      },
      "cell_type": "markdown",
      "source": "**Exercise 6**: Select the `country`, `province`, `region_1`, and `region_2` columns of the records with the `0`, `1`, `10`, and `100` index positions. In other words, generate the following `DataFrame`:\n\n![](https://i.imgur.com/FUCGiKP.png)"
    },
    {
      "metadata": {
        "_cell_guid": "7f5fa62d-cac5-4613-a019-5a1b6c305af3",
        "_uuid": "d5f6dd18e401b34541add94b128ab826f51cdb32",
        "trusted": true
      },
      "cell_type": "code",
      "source": "i = [0,1,10,100]\nheader = ['country', 'province', 'region_1', 'region_2']\ncheck_q6(pd.DataFrame(reviews, index=i, columns=header))",
      "execution_count": null,
      "outputs": []
    },
    {
      "metadata": {
        "_cell_guid": "fe19502b-beb1-44f0-b13f-3926e02bbc2c",
        "_uuid": "12b87365924856556f0d4b3550337dce29c6f8a1"
      },
      "cell_type": "markdown",
      "source": "**Exercise 7**: Select the `country` and `variety` columns of the first 100 records. \n\nHint: you may use `loc` or `iloc`. When working on the answer this question and the several of the ones that follow, keep the following \"gotcha\" described in the [reference](https://www.kaggle.com/residentmario/indexing-selecting-assigning-reference) for this tutorial section:\n\n> `iloc` uses the Python stdlib indexing scheme, where the first element of the range is included and the last one excluded. So `0:10` will select entries `0,...,9`. `loc`, meanwhile, indexes inclusively. So `0:10` will select entries `0,...,10`.\n\n> [...]\n\n> ...[consider] when the DataFrame index is a simple numerical list, e.g. `0,...,1000`. In this case `df.iloc[0:1000]` will return 1000 entries, while `df.loc[0:1000]` return 1001 of them! To get 1000 elements using `iloc`, you will need to go one higher and ask for `df.iloc[0:1001]`."
    },
    {
      "metadata": {
        "_cell_guid": "f8a89edb-6a2f-49d6-a0b5-535494c03348",
        "_uuid": "4b3ea349ff41a1f3f967453c8310abc3c2ca4f57",
        "trusted": true
      },
      "cell_type": "code",
      "source": "header = ['country', 'variety']\nfirst100 = reviews.loc[0:100, header];\ncheck_q7(first100)",
      "execution_count": null,
      "outputs": []
    },
    {
      "metadata": {
        "_cell_guid": "739de3a4-9c07-461b-9937-0d0dc460ac7f",
        "_uuid": "60b84333af900162f9869a8a257b09f417d9f368"
      },
      "cell_type": "markdown",
      "source": "**Exercise 8**: Select wines made in `Italy`. Hint: `reviews.country` equals what?"
    },
    {
      "metadata": {
        "_cell_guid": "7a965ec9-2b83-4198-94a8-03a13d2b4211",
        "_uuid": "44b903e957e8ab31a879253efb380f7ed841b971",
        "trusted": true
      },
      "cell_type": "code",
      "source": "# check_q8()\niscountryItaly = reviews['country'] == \"Italy\"\ncheck_q8(reviews[iscountryItaly])",
      "execution_count": null,
      "outputs": []
    },
    {
      "metadata": {
        "_cell_guid": "0fdc460e-f8aa-455c-b1f5-53df0e1fa7bc",
        "_uuid": "791d4984ee7b23a75d71dc4571776dadfe5226b0"
      },
      "cell_type": "markdown",
      "source": "**Exercise 9**: Select wines whose `region_2` is not `NaN`."
    },
    {
      "metadata": {
        "_cell_guid": "851ac090-28ab-4313-acba-0f2fea4435dd",
        "_uuid": "72e4f1db01c3942b04332e1bf6667518d1a59970",
        "trusted": true
      },
      "cell_type": "code",
      "source": "check_q9(reviews[reviews['region_2'].notnull()])",
      "execution_count": null,
      "outputs": []
    },
    {
      "metadata": {
        "_cell_guid": "7f9bcc9b-83ce-4330-963d-c2993b602571",
        "_uuid": "c6647eb9b3debdccbf27b4477358d62fc6065db2"
      },
      "cell_type": "markdown",
      "source": "The remaining exercises are visual."
    },
    {
      "metadata": {
        "_cell_guid": "4df27dc6-87d5-44ae-9291-5e1569acac6d",
        "_uuid": "83d3cf94f00cb52c29ddc735bfb3f96f6192a27a"
      },
      "cell_type": "markdown",
      "source": "**Exercise 10**: <!--What is the distribution of wine ratings assigned by Wine Magazine?--> Select the `points` column."
    },
    {
      "metadata": {
        "_cell_guid": "f859a040-4cab-443c-9bee-cf6585f01a6f",
        "_uuid": "1dbea9335c0adf062d78a43fbfadf3fc122582a6",
        "trusted": true,
        "_kg_hide-output": true,
        "_kg_hide-input": true
      },
      "cell_type": "code",
      "source": "check_q10(reviews['points'])",
      "execution_count": 94,
      "outputs": [
        {
          "output_type": "execute_result",
          "execution_count": 94,
          "data": {
            "text/plain": "<matplotlib.axes._subplots.AxesSubplot at 0x7f78f4c453c8>"
          },
          "metadata": {}
        },
        {
          "output_type": "display_data",
          "data": {
            "text/plain": "<Figure size 432x288 with 1 Axes>",
            "image/png": "[encoded data removed]"
          },
          "metadata": {
            "needs_background": "light"
          }
        }
      ]
    },
    {
      "metadata": {
        "_cell_guid": "86dfa923-c8be-4b03-b84f-e4e888d90816",
        "_uuid": "b60ac9beb9e287c65fe31f756a9006326320465e"
      },
      "cell_type": "markdown",
      "source": "**Exercise 11**: <!--What is the distribution of reviews scores for the first 1000 wines in the dataset?--> Select the `points` column for the first 1000 wines."
    },
    {
      "metadata": {
        "_cell_guid": "fbefd44e-f6af-41ba-adcf-62c658fb7bbc",
        "_uuid": "d8d13fb34cda115b00cda38903ac691b2592eba7",
        "trusted": true
      },
      "cell_type": "code",
      "source": "check_q11(reviews['points'].head(1000))",
      "execution_count": null,
      "outputs": []
    },
    {
      "metadata": {
        "_cell_guid": "f6f8126f-7d7c-447b-ba97-3910ce010d49",
        "_uuid": "16a8659d031254c01c8a25bad016aa7040bc7ca2"
      },
      "cell_type": "markdown",
      "source": "**Exercise 12**: <!--What is the distribution of reviews scores for the last 1000 wines in the dataset?--> Select the `points` column for the last 1000 wines."
    },
    {
      "metadata": {
        "_cell_guid": "3296fb79-870a-4c8f-9126-abac0451c543",
        "_uuid": "8ca9d43f2cf3f1602ea3f53f3a1f56609adf11e8",
        "trusted": true
      },
      "cell_type": "code",
      "source": "check_q12(reviews['points'].tail(1000))",
      "execution_count": null,
      "outputs": []
    },
    {
      "metadata": {
        "_cell_guid": "7b5287f1-9a12-4d08-89c3-054dc070878c",
        "_uuid": "7416dd40ba264baa25f75c9583a4a896609f4eb6"
      },
      "cell_type": "markdown",
      "source": "**Exercise 13**: <!--What is the distribution of reviews scores for wines made in Italy?--> Select the `points` column, but only for wines made in Italy."
    },
    {
      "metadata": {
        "_cell_guid": "37620840-d261-40b9-ac9e-758ada0049ac",
        "_uuid": "7a9166bc624e4517abc140f91ac609f61b56050c",
        "trusted": true
      },
      "cell_type": "code",
      "source": "filtereddf = reviews[reviews[\"country\"] == \"Italy\"].loc[:,'points']\ncheck_q13(filtereddf)\n",
      "execution_count": 97,
      "outputs": [
        {
          "output_type": "execute_result",
          "execution_count": 97,
          "data": {
            "text/plain": "<matplotlib.axes._subplots.AxesSubplot at 0x7f78f426a710>"
          },
          "metadata": {}
        },
        {
          "output_type": "display_data",
          "data": {
            "text/plain": "<Figure size 432x288 with 1 Axes>",
            "image/png": "[encoded data removed]"
          },
          "metadata": {
            "needs_background": "light"
          }
        }
      ]
    },
    {
      "metadata": {
        "_cell_guid": "0f7fb957-2242-45a7-8dfb-b696c3d56c57",
        "_uuid": "39f6c5f23156858a350c989c7d4a319d87e462fe"
      },
      "cell_type": "markdown",
      "source": "**Exercise 14**: Who produces more above-averagely good wines, France or Italy? Select the `country` column, but only  when said `country` is one of those two options, _and_ the `points` column is greater than or equal to 90.\n\nYour output should look roughly like this:\n```\n119       France\n120        Italy\n           ...  \n129969    France\n129970    France\nName: country, Length: 15840, dtype: object\n```"
    },
    {
      "metadata": {
        "_cell_guid": "c2ec8e09-4cad-4039-900a-5b4b0966fea8",
        "_uuid": "ac28247fdc7139ce33976dcb722271079dcffe07",
        "trusted": true
      },
      "cell_type": "code",
      "source": "isFranceItaly = reviews.country.isin([\"France\", \"Italy\"])\nisPointg8ThanEq90 = reviews.points >=90\nfiltereddf = reviews[isFranceItaly & isPointg8ThanEq90]\ncheck_q14(filtereddf.country)\n\n",
      "execution_count": 114,
      "outputs": [
        {
          "output_type": "execute_result",
          "execution_count": 114,
          "data": {
            "text/plain": "<matplotlib.axes._subplots.AxesSubplot at 0x7f78f4c66588>"
          },
          "metadata": {}
        },
        {
          "output_type": "display_data",
          "data": {
            "text/plain": "<Figure size 432x288 with 1 Axes>",
            "image/png": "[encoded data removed]"
          },
          "metadata": {
            "needs_background": "light"
          }
        }
      ]
    },
    {
      "metadata": {
        "_cell_guid": "97404b7b-c07a-4ed6-a68e-26402dea862e",
        "_uuid": "a83d3da821bf25b1cc19bc4de81e2738e36c4660"
      },
      "cell_type": "markdown",
      "source": "## Keep going\n\nMove on to the [**Summary functions and maps workbook**](https://www.kaggle.com/residentmario/summary-functions-and-maps-workbook)."
    }
  ],
  "metadata": {
    "kernelspec": {
      "display_name": "Python 3",
      "language": "python",
      "name": "python3"
    },
    "language_info": {
      "name": "python",
      "version": "3.6.6",
      "mimetype": "text/x-python",
      "codemirror_mode": {
        "name": "ipython",
        "version": 3
      },
      "pygments_lexer": "ipython3",
      "nbconvert_exporter": "python",
      "file_extension": ".py"
    }
  },
  "nbformat": 4,
  "nbformat_minor": 1
}
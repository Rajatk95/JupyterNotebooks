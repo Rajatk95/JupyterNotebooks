{
 "cells": [
  {
   "cell_type": "markdown",
   "metadata": {},
   "source": [
    "# Data Structures in Python"
   ]
  },
  {
   "cell_type": "markdown",
   "metadata": {},
   "source": [
    "## 1. Lists"
   ]
  },
  {
   "cell_type": "markdown",
   "metadata": {},
   "source": [
    "- Written as a list of comma-separated values (items) between square brackets. \n",
    "- Lists might contain items of different types, but usually the items all have the same type.\n",
    "- Are a mutable type, i.e. it is possible to change their content."
   ]
  },
  {
   "cell_type": "code",
   "execution_count": null,
   "metadata": {
    "collapsed": true
   },
   "outputs": [],
   "source": [
    "squares = [1, 4, 9, 16, 25, 'a', \"abc\"]\n",
    "print (\"List    : \", squares) \n",
    "print (\"Index 0 : \",squares[0])\n",
    "print (\"Last Index : \",squares[-1])"
   ]
  },
  {
   "cell_type": "markdown",
   "metadata": {},
   "source": [
    "#### Slice Operation : \n",
    "Returns a new (shallow) copy of list containing requested elements."
   ]
  },
  {
   "cell_type": "code",
   "execution_count": null,
   "metadata": {
    "collapsed": true
   },
   "outputs": [],
   "source": [
    "print (\"Slice Last N Elements : \",squares[-3:]) ## where N = 3\n",
    "print (\"Slice First N Elements : \",squares[:3]) ## where N = 3\n",
    "print (\"Slice all or create a shallow copy of list : \",squares[:])"
   ]
  },
  {
   "cell_type": "markdown",
   "metadata": {},
   "source": [
    "#### Concatenation :"
   ]
  },
  {
   "cell_type": "code",
   "execution_count": 3,
   "metadata": {},
   "outputs": [
    {
     "data": {
      "text/plain": [
       "[36, 49, 64, 81, 100, 6, 4, 6, 8, 100]"
      ]
     },
     "execution_count": 3,
     "metadata": {},
     "output_type": "execute_result"
    }
   ],
   "source": [
    "squares = [36, 49, 64, 81, 100]\n",
    "squares = squares + [6, 4, 6, 8, 100]\n",
    "squares"
   ]
  },
  {
   "cell_type": "markdown",
   "metadata": {},
   "source": [
    "### Methods\n",
    "#### <font color=grey>append()</font> \n",
    "    adds an element to end of the list."
   ]
  },
  {
   "cell_type": "code",
   "execution_count": null,
   "metadata": {
    "collapsed": true
   },
   "outputs": [],
   "source": [
    "squares.append(36)  # add the square of 11\n",
    "squares.append(7 ** 2)  # and the square of 12\n",
    "squares"
   ]
  },
  {
   "cell_type": "markdown",
   "metadata": {},
   "source": [
    "#### <font color=grey>len()</font>\n",
    "    length of the list."
   ]
  },
  {
   "cell_type": "code",
   "execution_count": null,
   "metadata": {
    "collapsed": true
   },
   "outputs": [],
   "source": [
    "len(squares)"
   ]
  },
  {
   "cell_type": "markdown",
   "metadata": {},
   "source": [
    "#### <font color=grey>insert(i, x)</font>\n",
    "    insert an item at a given position. The first argument is the index of the element before which to insert.\n",
    "            a.insert(0, x) inserts at the front of the list, and a.insert(len(a), x) is equivalent to a.append(x)."
   ]
  },
  {
   "cell_type": "code",
   "execution_count": null,
   "metadata": {
    "collapsed": true
   },
   "outputs": [],
   "source": [
    "squares.insert(0, 0) ## inserts in the front of list.\n",
    "squares.insert(len(squares), len(squares)**2) ## is equivalent to a.append(x), inserts at the end of list.\n",
    "squares"
   ]
  },
  {
   "cell_type": "markdown",
   "metadata": {},
   "source": [
    "#### <font color=grey>remove(x)</font>\n",
    "    Remove the first item from the list whose value is equal to x. \n",
    "    @throws - ValueError - if x is not present"
   ]
  },
  {
   "cell_type": "code",
   "execution_count": null,
   "metadata": {
    "collapsed": true
   },
   "outputs": [],
   "source": [
    "squares.remove(64) ## \n",
    "print (\"After removing \",squares)\n",
    "\n",
    "##squares.remove(999) ## will throw ValueError because 999 is not present in list."
   ]
  },
  {
   "cell_type": "markdown",
   "metadata": {},
   "source": [
    "#### <font color=grey>pop()</font>\n",
    "    a.pop() removes and returns the last item in the list.\n",
    "#### <font color=grey>pop([i])</font>\n",
    "    Remove and return the item at the given position in the list."
   ]
  },
  {
   "cell_type": "code",
   "execution_count": null,
   "metadata": {
    "collapsed": true
   },
   "outputs": [],
   "source": [
    "print (\"Before pop()\",squares)\n",
    "squares.pop()\n",
    "print (\"After pop()\",squares)\n",
    "val = squares.pop(0)\n",
    "print (\"After pop(0)\",squares,\"and returned value\", val)"
   ]
  },
  {
   "cell_type": "markdown",
   "metadata": {},
   "source": [
    "#### <font color=grey>clear()</font>\n",
    "    Remove all items from the list. Equivalent to del a[:].\n",
    "#### <font color=grey>count(x)</font>\n",
    "    Return the number of times x appears in the list.\n",
    "#### <font color=grey>copy()</font>\n",
    "    Return a shallow copy of the list. Equivalent to a[:].\n",
    "#### <font color=grey>sort()</font>\n",
    "    sort() a list.\n",
    "    \n",
    "#### - insert, remove or sort that only modify the list have no return value printed – they return the default None. \n",
    "    This is a design principle for all mutable data structures in Python."
   ]
  },
  {
   "cell_type": "markdown",
   "metadata": {},
   "source": [
    "## 1.2. Lists as Stacks"
   ]
  },
  {
   "cell_type": "markdown",
   "metadata": {},
   "source": [
    "    - The list methods make it very easy to use a list as a stack, where the last element added is the first element retrieved (\"LIFO\"). \n",
    "    - To add an item to the top of the stack, use append(). \n",
    "    - To retrieve an item from the top of the stack, use pop() without an explicit index."
   ]
  },
  {
   "cell_type": "code",
   "execution_count": null,
   "metadata": {
    "collapsed": true
   },
   "outputs": [],
   "source": [
    "stack = [3, 4, 5]\n",
    "print('Stack      : ',stack)\n",
    "stack.append(6)\n",
    "stack.append(7)\n",
    "print('Put - 6, 7 : ',stack)\n",
    "\n",
    "stack.pop()\n",
    "print('After pop(): ',stack)\n",
    "stack.pop()\n",
    "print('After pop(): ',stack)"
   ]
  },
  {
   "cell_type": "markdown",
   "metadata": {},
   "source": [
    "## 1.3. Lists as Queue\n",
    "    - It is also possible to use a list as a queue, where the first element added is the first element retrieved (“FIFO”).\n",
    "    - List is not efficient to implement Queue.\n",
    "        -pops from the beginning of a list is slow (because all of the other elements have to be shifted by one).\n",
    "To implement a queue, use <font color=red>collections.deque</font> - designed to have fast appends and pops from both ends."
   ]
  },
  {
   "cell_type": "code",
   "execution_count": null,
   "metadata": {
    "collapsed": true
   },
   "outputs": [],
   "source": [
    "from collections import deque\n",
    "queue = deque([\"Eric\", \"John\", \"Michael\"])\n",
    "queue.append(\"Terry\")           # Terry arrives\n",
    "queue.append(\"Graham\")          # Graham arrives\n",
    "queue.popleft()                 # removes Eric\n",
    "queue"
   ]
  },
  {
   "cell_type": "markdown",
   "metadata": {},
   "source": [
    "## 2. Tuples and Sequences"
   ]
  },
  {
   "cell_type": "markdown",
   "metadata": {
    "collapsed": true
   },
   "source": [
    "    A tuple consists of a number of values separated by commas"
   ]
  },
  {
   "cell_type": "code",
   "execution_count": null,
   "metadata": {
    "collapsed": true
   },
   "outputs": [],
   "source": [
    "empty = () ## creates an empty tuple\n",
    "empty\n",
    "t = 12345, 54321, 'hello!'\n",
    "t[0]"
   ]
  },
  {
   "cell_type": "code",
   "execution_count": null,
   "metadata": {
    "collapsed": true
   },
   "outputs": [],
   "source": [
    "# Tuples may be nested:\n",
    "u = t, (1, 2, 3, 4, 5)\n",
    "u"
   ]
  },
  {
   "cell_type": "markdown",
   "metadata": {},
   "source": [
    "### Tuples are immutable:\n",
    "    t[0] = 88888\n",
    "    Traceback (most recent call last):\n",
    "    File \"<stdin>\", line 1, in <module>\n",
    "    TypeError: 'tuple' object does not support item assignment\n",
    "#### but Tuples can contain mutable objects:"
   ]
  },
  {
   "cell_type": "code",
   "execution_count": null,
   "metadata": {
    "collapsed": true
   },
   "outputs": [],
   "source": [
    "v = ([1, 2, 3], [3, 2, 1])\n",
    "v[0][1] = 1\n",
    "v"
   ]
  },
  {
   "cell_type": "markdown",
   "metadata": {},
   "source": [
    "## Difference between List and Tuples.\n",
    "####  Syntax\n",
    "    Syntax of list and tuple is slightly different. \n",
    "    - Lists are surrounded by square brackets [].\n",
    "    - Tuples are surrounded by parenthesis ()."
   ]
  },
  {
   "cell_type": "code",
   "execution_count": null,
   "metadata": {
    "collapsed": true
   },
   "outputs": [],
   "source": [
    "list_num = [1,2,3,4]\n",
    "tup_num = (1,2,3,4)\n",
    "\n",
    "print(list_num)\n",
    "print(tup_num)"
   ]
  },
  {
   "cell_type": "markdown",
   "metadata": {},
   "source": [
    "#### Mutable List vs Immutable Tuples\n",
    "    List has mutable nature whereas tuple has immutable nature.\n",
    "#### Available Operations\n",
    "    Lists has more builtin function than that of tuple. We can use dir([object]) inbuilt function to get all the associated functions for list and tuple."
   ]
  },
  {
   "cell_type": "code",
   "execution_count": null,
   "metadata": {
    "collapsed": true
   },
   "outputs": [],
   "source": [
    "dir(list_num) ## shows available operations. list_num is a list."
   ]
  },
  {
   "cell_type": "code",
   "execution_count": null,
   "metadata": {
    "collapsed": true
   },
   "outputs": [],
   "source": [
    "dir(tup_num) ## ## shows available operations. tup_num is a list."
   ]
  },
  {
   "cell_type": "markdown",
   "metadata": {},
   "source": [
    "#### Size Comparison\n",
    "    Tuples operation has smaller size than that of list, which makes it a bit faster but not that much to mention about until you have a huge number of elements."
   ]
  },
  {
   "cell_type": "code",
   "execution_count": null,
   "metadata": {
    "collapsed": true
   },
   "outputs": [],
   "source": [
    "a= (1,2,3,4,5,6,7,8,9,0)\n",
    "b= [1,2,3,4,5,6,7,8,9,0]\n",
    "\n",
    "print('Size of Tuple a=',a.__sizeof__())\n",
    "print('Size of List  b=',b.__sizeof__())"
   ]
  },
  {
   "cell_type": "markdown",
   "metadata": {},
   "source": [
    "#### Different Use Cases\n",
    "\n",
    "    At first sight, it might seem that lists can always replace tuples. But tuples are extremely useful data structures\n",
    "\n",
    "    - Using a tuple instead of a list can give the programmer and the interpreter a hint that the data should not be changed.\n",
    "    - Tuples are commonly used as the equivalent of a dictionary without keys to store data. Below example contains tuples inside list which has a list of movies."
   ]
  },
  {
   "cell_type": "code",
   "execution_count": null,
   "metadata": {
    "collapsed": true
   },
   "outputs": [],
   "source": [
    "[('Swordfish', 'Dominic Sena', 2001), ('Snowden', ' Oliver Stone', 2016), ('Taxi Driver', 'Martin Scorsese', 1976)]"
   ]
  },
  {
   "cell_type": "markdown",
   "metadata": {},
   "source": [
    "    - Tuple can also be used as key in dictionary due to their hashable and immutable nature whereas Lists are not used as key in a dictionary because list can’t handle __hash__() and have mutable nature."
   ]
  },
  {
   "cell_type": "code",
   "execution_count": null,
   "metadata": {
    "collapsed": true
   },
   "outputs": [],
   "source": [
    "key_val= {('alpha','bravo'):123} #Valid\n",
    "key_val = {['alpha','bravo']:123} #Invalid"
   ]
  },
  {
   "cell_type": "markdown",
   "metadata": {},
   "source": [
    "## 3. Sets\n",
    "    - an unordered collection.\n",
    "    - no duplicate elements.\n",
    "    - Basic uses include membership testing and eliminating duplicate entries.\n",
    "    - Set objects also support mathematical operations like union, intersection, difference, and symmetric difference.\n",
    "    - Curly braces or the set() function can be used to create sets. Note: to create an empty set you have to use set(), not {}; the latter creates an empty dictionary."
   ]
  },
  {
   "cell_type": "code",
   "execution_count": null,
   "metadata": {
    "collapsed": true
   },
   "outputs": [],
   "source": [
    "basket = {'apple', 'orange', 'apple', 'pear', 'orange', 'banana'} ## has duplicate entries.\n",
    "print(basket) # show that duplicates have been removed\n",
    "'orange' in basket                 # fast membership testing\n",
    "a = set('abracadabra')\n",
    "b = set('alacazam')\n",
    "print (\"unique letters in a                    \", a)\n",
    "print (\"letters in a but not in b              \", a - b)\n",
    "print (\"letters in a or b or both              \", a | b)\n",
    "print (\"letters in both a and b                \", a & b)\n",
    "print (\"letters in a or b but not both         \", a ^ b)"
   ]
  },
  {
   "cell_type": "markdown",
   "metadata": {},
   "source": [
    "## Dictonary\n",
    "     - Dictionaries are sometimes found in other languages as “associative memories” or “associative arrays”. \n",
    "    \n",
    "     - Unlike sequences, which are indexed by a range of numbers, dictionaries are indexed by keys, which can be any immutable type; strings and numbers can always be keys. \n",
    "    \n",
    "     - Tuples can be used as keys if they contain only strings, numbers, or tuples; if a tuple contains any mutable object either directly or indirectly, it cannot be used as a key. You can’t use lists as keys, since lists can be modified in place using index assignments, slice assignments, or methods like append() and extend().\n",
    "    \n",
    "     - It is best to think of a dictionary as a set of key: value pairs, with the requirement that the keys are unique (within one dictionary). A pair of braces creates an empty dictionary: {}. Placing a comma-separated list of key:value pairs within the braces adds initial key:value pairs to the dictionary; this is also the way dictionaries are written on output.\n",
    "    \n",
    "     - The main operations on a dictionary are storing a value with some key and extracting the value given the key. It is also possible to delete a key:value pair with del. If you store using a key that is already in use, the old value associated with that key is forgotten. It is an error to extract a value using a non-existent key.\n",
    "    \n",
    "     - Performing list(d) on a dictionary returns a list of all the keys used in the dictionary, in insertion order (if you want it sorted, just use sorted(d) instead). To check whether a single key is in the dictionary, use the in keyword."
   ]
  },
  {
   "cell_type": "code",
   "execution_count": null,
   "metadata": {
    "collapsed": true
   },
   "outputs": [],
   "source": [
    "tel = {'jack': 4098, 'sape': 4139}\n",
    "tel['guido'] = 4127\n",
    "print (tel)\n",
    "print (tel['jack'])\n",
    "del tel['sape']\n",
    "print (tel)"
   ]
  },
  {
   "cell_type": "code",
   "execution_count": null,
   "metadata": {
    "collapsed": true
   },
   "outputs": [],
   "source": [
    "list(tel) ## list the keys"
   ]
  },
  {
   "cell_type": "code",
   "execution_count": null,
   "metadata": {
    "collapsed": true
   },
   "outputs": [],
   "source": [
    "sorted(tel) ## list the keys in sorted order"
   ]
  },
  {
   "cell_type": "code",
   "execution_count": null,
   "metadata": {
    "collapsed": true
   },
   "outputs": [],
   "source": [
    "## member search\n",
    "'guido' in tel\n",
    "'jack' not in tel"
   ]
  }
 ],
 "metadata": {
  "kernelspec": {
   "display_name": "Python 3",
   "language": "python",
   "name": "python3"
  },
  "language_info": {
   "codemirror_mode": {
    "name": "ipython",
    "version": 3
   },
   "file_extension": ".py",
   "mimetype": "text/x-python",
   "name": "python",
   "nbconvert_exporter": "python",
   "pygments_lexer": "ipython3",
   "version": "3.6.3"
  }
 },
 "nbformat": 4,
 "nbformat_minor": 2
}
